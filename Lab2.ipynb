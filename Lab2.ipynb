{
 "cells": [
  {
   "cell_type": "code",
   "execution_count": 1,
   "id": "929f8a30-8649-4130-9302-ad3621d4a50b",
   "metadata": {},
   "outputs": [],
   "source": [
    "import pandas as pd\n",
    "import numpy as np\n",
    "import warnings\n",
    "\n",
    "warnings.filterwarnings(\"ignore\")\n"
   ]
  },
  {
   "cell_type": "code",
   "execution_count": 2,
   "id": "836d1ef4-2b5e-4ed3-9995-7eefa225480e",
   "metadata": {},
   "outputs": [],
   "source": [
    "example = pd.read_csv('body.csv')"
   ]
  },
  {
   "cell_type": "code",
   "execution_count": 3,
   "id": "7430bda3-d274-4646-804c-9aa58eea41d3",
   "metadata": {},
   "outputs": [
    {
     "data": {
      "text/html": [
       "<div>\n",
       "<style scoped>\n",
       "    .dataframe tbody tr th:only-of-type {\n",
       "        vertical-align: middle;\n",
       "    }\n",
       "\n",
       "    .dataframe tbody tr th {\n",
       "        vertical-align: top;\n",
       "    }\n",
       "\n",
       "    .dataframe thead th {\n",
       "        text-align: right;\n",
       "    }\n",
       "</style>\n",
       "<table border=\"1\" class=\"dataframe\">\n",
       "  <thead>\n",
       "    <tr style=\"text-align: right;\">\n",
       "      <th></th>\n",
       "      <th>Reference period / Période de référence</th>\n",
       "      <th>Body mass index, overweight / Indice de masse corporelle, embonpoint</th>\n",
       "      <th>Body mass index, obese / Indice de masse corporelle, obèse</th>\n",
       "    </tr>\n",
       "  </thead>\n",
       "  <tbody>\n",
       "    <tr>\n",
       "      <th>0</th>\n",
       "      <td>01/01/2015</td>\n",
       "      <td>197500</td>\n",
       "      <td>210600</td>\n",
       "    </tr>\n",
       "    <tr>\n",
       "      <th>1</th>\n",
       "      <td>01/01/2016</td>\n",
       "      <td>184300</td>\n",
       "      <td>218600</td>\n",
       "    </tr>\n",
       "    <tr>\n",
       "      <th>2</th>\n",
       "      <td>01/01/2017</td>\n",
       "      <td>190300</td>\n",
       "      <td>210600</td>\n",
       "    </tr>\n",
       "    <tr>\n",
       "      <th>3</th>\n",
       "      <td>01/01/2018</td>\n",
       "      <td>215800</td>\n",
       "      <td>199900</td>\n",
       "    </tr>\n",
       "    <tr>\n",
       "      <th>4</th>\n",
       "      <td>01/01/2019</td>\n",
       "      <td>201600</td>\n",
       "      <td>206600</td>\n",
       "    </tr>\n",
       "    <tr>\n",
       "      <th>5</th>\n",
       "      <td>01/01/2020</td>\n",
       "      <td>191500</td>\n",
       "      <td>220500</td>\n",
       "    </tr>\n",
       "    <tr>\n",
       "      <th>6</th>\n",
       "      <td>01/01/2021</td>\n",
       "      <td>195300</td>\n",
       "      <td>228700</td>\n",
       "    </tr>\n",
       "  </tbody>\n",
       "</table>\n",
       "</div>"
      ],
      "text/plain": [
       "  Reference period / Période de référence  \\\n",
       "0                              01/01/2015   \n",
       "1                              01/01/2016   \n",
       "2                              01/01/2017   \n",
       "3                              01/01/2018   \n",
       "4                              01/01/2019   \n",
       "5                              01/01/2020   \n",
       "6                              01/01/2021   \n",
       "\n",
       "   Body mass index, overweight / Indice de masse corporelle, embonpoint  \\\n",
       "0                                             197500                      \n",
       "1                                             184300                      \n",
       "2                                             190300                      \n",
       "3                                             215800                      \n",
       "4                                             201600                      \n",
       "5                                             191500                      \n",
       "6                                             195300                      \n",
       "\n",
       "   Body mass index, obese / Indice de masse corporelle, obèse  \n",
       "0                                             210600           \n",
       "1                                             218600           \n",
       "2                                             210600           \n",
       "3                                             199900           \n",
       "4                                             206600           \n",
       "5                                             220500           \n",
       "6                                             228700           "
      ]
     },
     "execution_count": 3,
     "metadata": {},
     "output_type": "execute_result"
    }
   ],
   "source": [
    "example"
   ]
  },
  {
   "cell_type": "code",
   "execution_count": 4,
   "id": "20bd643c-2a9e-4819-89e3-bcfc70c927fa",
   "metadata": {},
   "outputs": [],
   "source": [
    "example_new= example[['Reference period / Période de référence', 'Body mass index, overweight / Indice de masse corporelle, embonpoint']]\n"
   ]
  },
  {
   "cell_type": "code",
   "execution_count": 5,
   "id": "d9ee1c9d-2cdf-4e55-a432-1eab932be202",
   "metadata": {},
   "outputs": [
    {
     "data": {
      "text/html": [
       "<div>\n",
       "<style scoped>\n",
       "    .dataframe tbody tr th:only-of-type {\n",
       "        vertical-align: middle;\n",
       "    }\n",
       "\n",
       "    .dataframe tbody tr th {\n",
       "        vertical-align: top;\n",
       "    }\n",
       "\n",
       "    .dataframe thead th {\n",
       "        text-align: right;\n",
       "    }\n",
       "</style>\n",
       "<table border=\"1\" class=\"dataframe\">\n",
       "  <thead>\n",
       "    <tr style=\"text-align: right;\">\n",
       "      <th></th>\n",
       "      <th>Reference period / Période de référence</th>\n",
       "      <th>Body mass index, overweight / Indice de masse corporelle, embonpoint</th>\n",
       "    </tr>\n",
       "  </thead>\n",
       "  <tbody>\n",
       "    <tr>\n",
       "      <th>0</th>\n",
       "      <td>01/01/2015</td>\n",
       "      <td>197500</td>\n",
       "    </tr>\n",
       "    <tr>\n",
       "      <th>1</th>\n",
       "      <td>01/01/2016</td>\n",
       "      <td>184300</td>\n",
       "    </tr>\n",
       "    <tr>\n",
       "      <th>2</th>\n",
       "      <td>01/01/2017</td>\n",
       "      <td>190300</td>\n",
       "    </tr>\n",
       "    <tr>\n",
       "      <th>3</th>\n",
       "      <td>01/01/2018</td>\n",
       "      <td>215800</td>\n",
       "    </tr>\n",
       "    <tr>\n",
       "      <th>4</th>\n",
       "      <td>01/01/2019</td>\n",
       "      <td>201600</td>\n",
       "    </tr>\n",
       "    <tr>\n",
       "      <th>5</th>\n",
       "      <td>01/01/2020</td>\n",
       "      <td>191500</td>\n",
       "    </tr>\n",
       "    <tr>\n",
       "      <th>6</th>\n",
       "      <td>01/01/2021</td>\n",
       "      <td>195300</td>\n",
       "    </tr>\n",
       "  </tbody>\n",
       "</table>\n",
       "</div>"
      ],
      "text/plain": [
       "  Reference period / Période de référence  \\\n",
       "0                              01/01/2015   \n",
       "1                              01/01/2016   \n",
       "2                              01/01/2017   \n",
       "3                              01/01/2018   \n",
       "4                              01/01/2019   \n",
       "5                              01/01/2020   \n",
       "6                              01/01/2021   \n",
       "\n",
       "   Body mass index, overweight / Indice de masse corporelle, embonpoint  \n",
       "0                                             197500                     \n",
       "1                                             184300                     \n",
       "2                                             190300                     \n",
       "3                                             215800                     \n",
       "4                                             201600                     \n",
       "5                                             191500                     \n",
       "6                                             195300                     "
      ]
     },
     "execution_count": 5,
     "metadata": {},
     "output_type": "execute_result"
    }
   ],
   "source": [
    "example_new"
   ]
  },
  {
   "cell_type": "code",
   "execution_count": 6,
   "id": "b660ddab-6f58-4448-a0a3-da8f912d70ed",
   "metadata": {},
   "outputs": [
    {
     "data": {
      "text/plain": [
       "array([[<AxesSubplot:title={'center':'Body mass index, overweight / Indice de masse corporelle, embonpoint'}>]],\n",
       "      dtype=object)"
      ]
     },
     "execution_count": 6,
     "metadata": {},
     "output_type": "execute_result"
    },
    {
     "data": {
      "image/png": "[encoded data removed]",
      "text/plain": [
       "<Figure size 432x288 with 1 Axes>"
      ]
     },
     "metadata": {
      "needs_background": "light"
     },
     "output_type": "display_data"
    }
   ],
   "source": [
    "example_new.hist()"
   ]
  },
  {
   "cell_type": "code",
   "execution_count": 7,
   "id": "1a7fa5eb-33f3-40ac-a8b3-4cf67d9e3477",
   "metadata": {},
   "outputs": [
    {
     "data": {
      "text/plain": [
       "array([[<AxesSubplot:title={'center':'Body mass index, overweight / Indice de masse corporelle, embonpoint'}>,\n",
       "        <AxesSubplot:title={'center':'Body mass index, obese / Indice de masse corporelle, obèse'}>]],\n",
       "      dtype=object)"
      ]
     },
     "execution_count": 7,
     "metadata": {},
     "output_type": "execute_result"
    },
    {
     "data": {
      "image/png": "[encoded data removed]",
      "text/plain": [
       "<Figure size 432x288 with 2 Axes>"
      ]
     },
     "metadata": {
      "needs_background": "light"
     },
     "output_type": "display_data"
    }
   ],
   "source": [
    "example.hist()"
   ]
  },
  {
   "cell_type": "code",
   "execution_count": null,
   "id": "1f8ca4a2-9b47-4283-9292-6f689125bfc5",
   "metadata": {},
   "outputs": [],
   "source": [
    "‹"
   ]
  }
 ],
 "metadata": {
  "kernelspec": {
   "display_name": "Python 3 (ipykernel)",
   "language": "python",
   "name": "python3"
  },
  "language_info": {
   "codemirror_mode": {
    "name": "ipython",
    "version": 3
   },
   "file_extension": ".py",
   "mimetype": "text/x-python",
   "name": "python",
   "nbconvert_exporter": "python",
   "pygments_lexer": "ipython3",
   "version": "3.9.7"
  }
 },
 "nbformat": 4,
 "nbformat_minor": 5
}
