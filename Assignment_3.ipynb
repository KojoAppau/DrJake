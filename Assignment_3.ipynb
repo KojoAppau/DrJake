{
 "cells": [
  {
   "cell_type": "markdown",
   "id": "5a3ec9c0-a8a2-4cad-86d9-407f202ce703",
   "metadata": {
    "id": "435f6115-0522-4d90-affd-c6538f57306c"
   },
   "source": [
    "# Assisgnment 3"
   ]
  },
  {
   "cell_type": "code",
   "execution_count": 41,
   "id": "ddbf187e-8405-470a-bc3b-80b10b7b4742",
   "metadata": {},
   "outputs": [],
   "source": [
    "import pandas as pd\n",
    "import numpy as np\n",
    "import seaborn as sns\n",
    "import warnings\n",
    "from sklearn.model_selection import train_test_split, cross_val_score, GridSearchCV\n",
    "from sklearn.linear_model import LogisticRegression\n",
    "from sklearn.preprocessing import LabelEncoder\n",
    "from sklearn.tree import DecisionTreeClassifier\n",
    "from sklearn.ensemble import RandomForestClassifier\n",
    "from sklearn.metrics import accuracy_score, confusion_matrix\n",
    "from sklearn.ensemble import GradientBoostingRegressor\n",
    "from sklearn.linear_model import ElasticNet, SGDRegressor, BayesianRidge\n",
    "from sklearn.svm import SVR\n",
    "from sklearn.kernel_ridge import KernelRidge\n",
    "from xgboost import XGBRegressor\n",
    "from lightgbm import LGBMRegressor\n"
   ]
  },
  {
   "cell_type": "markdown",
   "id": "3faf1171-4a3f-42d1-9aea-29de919296ef",
   "metadata": {
    "id": "3faf1171-4a3f-42d1-9aea-29de919296ef"
   },
   "source": [
    "# Load the dataset"
   ]
  },
  {
   "cell_type": "code",
   "execution_count": 2,
   "id": "0fe8bfc4-a683-435c-a940-1fc94fc212a5",
   "metadata": {
    "colab": {
     "base_uri": "https://localhost:8080/",
     "height": 221
    },
    "id": "0fe8bfc4-a683-435c-a940-1fc94fc212a5",
    "outputId": "3dcda307-0afb-4c6d-a079-33fe7fa1e0a9"
   },
   "outputs": [
    {
     "data": {
      "text/html": [
       "<div>\n",
       "<style scoped>\n",
       "    .dataframe tbody tr th:only-of-type {\n",
       "        vertical-align: middle;\n",
       "    }\n",
       "\n",
       "    .dataframe tbody tr th {\n",
       "        vertical-align: top;\n",
       "    }\n",
       "\n",
       "    .dataframe thead th {\n",
       "        text-align: right;\n",
       "    }\n",
       "</style>\n",
       "<table border=\"1\" class=\"dataframe\">\n",
       "  <thead>\n",
       "    <tr style=\"text-align: right;\">\n",
       "      <th></th>\n",
       "      <th>default</th>\n",
       "      <th>amount_of_loan</th>\n",
       "      <th>credit_rating</th>\n",
       "      <th>years_with_bank</th>\n",
       "      <th>rent_mortgage_own</th>\n",
       "      <th>income</th>\n",
       "      <th>age</th>\n",
       "    </tr>\n",
       "  </thead>\n",
       "  <tbody>\n",
       "    <tr>\n",
       "      <th>0</th>\n",
       "      <td>0</td>\n",
       "      <td>1000</td>\n",
       "      <td>B</td>\n",
       "      <td>2.0</td>\n",
       "      <td>0</td>\n",
       "      <td>19200.0</td>\n",
       "      <td>24</td>\n",
       "    </tr>\n",
       "    <tr>\n",
       "      <th>1</th>\n",
       "      <td>1</td>\n",
       "      <td>6500</td>\n",
       "      <td>A</td>\n",
       "      <td>2.0</td>\n",
       "      <td>1</td>\n",
       "      <td>66000.0</td>\n",
       "      <td>28</td>\n",
       "    </tr>\n",
       "    <tr>\n",
       "      <th>2</th>\n",
       "      <td>0</td>\n",
       "      <td>2400</td>\n",
       "      <td>A</td>\n",
       "      <td>2.0</td>\n",
       "      <td>0</td>\n",
       "      <td>60000.0</td>\n",
       "      <td>36</td>\n",
       "    </tr>\n",
       "    <tr>\n",
       "      <th>3</th>\n",
       "      <td>0</td>\n",
       "      <td>10000</td>\n",
       "      <td>C</td>\n",
       "      <td>3.0</td>\n",
       "      <td>0</td>\n",
       "      <td>62000.0</td>\n",
       "      <td>24</td>\n",
       "    </tr>\n",
       "    <tr>\n",
       "      <th>4</th>\n",
       "      <td>1</td>\n",
       "      <td>4000</td>\n",
       "      <td>C</td>\n",
       "      <td>2.0</td>\n",
       "      <td>0</td>\n",
       "      <td>20000.0</td>\n",
       "      <td>28</td>\n",
       "    </tr>\n",
       "  </tbody>\n",
       "</table>\n",
       "</div>"
      ],
      "text/plain": [
       "   default  amount_of_loan credit_rating  years_with_bank  rent_mortgage_own  \\\n",
       "0        0            1000             B              2.0                  0   \n",
       "1        1            6500             A              2.0                  1   \n",
       "2        0            2400             A              2.0                  0   \n",
       "3        0           10000             C              3.0                  0   \n",
       "4        1            4000             C              2.0                  0   \n",
       "\n",
       "    income  age  \n",
       "0  19200.0   24  \n",
       "1  66000.0   28  \n",
       "2  60000.0   36  \n",
       "3  62000.0   24  \n",
       "4  20000.0   28  "
      ]
     },
     "execution_count": 2,
     "metadata": {},
     "output_type": "execute_result"
    }
   ],
   "source": [
    "\n",
    "data = pd.read_csv('loan_history_almost_clean.csv')\n",
    "data.head()\n",
    "\n"
   ]
  },
  {
   "cell_type": "markdown",
   "id": "f3710f01-a212-43a4-8fa5-bf888c36539b",
   "metadata": {
    "id": "f3710f01-a212-43a4-8fa5-bf888c36539b"
   },
   "source": [
    "# Droping Nulls\n"
   ]
  },
  {
   "cell_type": "code",
   "execution_count": 3,
   "id": "eded998c-33db-4a93-961f-3bf2f448c27b",
   "metadata": {
    "id": "eded998c-33db-4a93-961f-3bf2f448c27b"
   },
   "outputs": [],
   "source": [
    "data= data.dropna()"
   ]
  },
  {
   "cell_type": "code",
   "execution_count": 4,
   "id": "982b46c9-adeb-4dca-a83b-2e7ed3afe88a",
   "metadata": {
    "id": "982b46c9-adeb-4dca-a83b-2e7ed3afe88a"
   },
   "outputs": [],
   "source": [
    "d ={'A': 1,'B':2,'C':3,'D':4,'E' :5,'F' :6,'G':7}\n",
    "data['credit_rating'] = data['credit_rating'].map(d)"
   ]
  },
  {
   "cell_type": "markdown",
   "id": "1e50be3f-3679-49a6-94a3-cd5816e1d860",
   "metadata": {
    "id": "1e50be3f-3679-49a6-94a3-cd5816e1d860"
   },
   "source": [
    "# Select two features"
   ]
  },
  {
   "cell_type": "code",
   "execution_count": 5,
   "id": "0f84becd-b4ef-4a9f-8b24-fae97e1d0844",
   "metadata": {
    "id": "0f84becd-b4ef-4a9f-8b24-fae97e1d0844"
   },
   "outputs": [],
   "source": [
    "\n",
    "X = data[['credit_rating', 'years_with_bank']]\n",
    "y = data['default']\n",
    "\n"
   ]
  },
  {
   "cell_type": "markdown",
   "id": "06e7db70-7cb8-4059-acd5-c60094a630ca",
   "metadata": {
    "id": "06e7db70-7cb8-4059-acd5-c60094a630ca"
   },
   "source": [
    "# Split the data into training and test sets"
   ]
  },
  {
   "cell_type": "code",
   "execution_count": 6,
   "id": "50ea9863-540a-4c52-8e22-456e67e83a85",
   "metadata": {
    "id": "50ea9863-540a-4c52-8e22-456e67e83a85"
   },
   "outputs": [],
   "source": [
    "\n",
    "X_train, X_test, y_train, y_test = train_test_split(X, y, test_size=0.2, random_state=42)\n",
    "\n"
   ]
  },
  {
   "cell_type": "markdown",
   "id": "c87e7504-e0a3-4361-877e-5c3eeb0cee49",
   "metadata": {
    "id": "c87e7504-e0a3-4361-877e-5c3eeb0cee49"
   },
   "source": [
    "# Regression model"
   ]
  },
  {
   "cell_type": "code",
   "execution_count": 7,
   "id": "81660545-25fa-4a33-98be-e61c8b572257",
   "metadata": {
    "colab": {
     "base_uri": "https://localhost:8080/",
     "height": 93
    },
    "id": "81660545-25fa-4a33-98be-e61c8b572257",
    "outputId": "297cb3fa-9a48-491d-bdda-c33565d3d1ad"
   },
   "outputs": [
    {
     "data": {
      "text/plain": [
       "LogisticRegression()"
      ]
     },
     "execution_count": 7,
     "metadata": {},
     "output_type": "execute_result"
    }
   ],
   "source": [
    "\n",
    "\n",
    "logistic = LogisticRegression()\n",
    "logistic.fit(X_train, y_train)"
   ]
  },
  {
   "cell_type": "markdown",
   "id": "a92bdc66-d5ca-4ae9-b3a3-736ef21e9970",
   "metadata": {
    "id": "a92bdc66-d5ca-4ae9-b3a3-736ef21e9970"
   },
   "source": [
    "# Evaluate the logistic regression model"
   ]
  },
  {
   "cell_type": "code",
   "execution_count": 8,
   "id": "939ab586-88f1-4235-bad1-923389f0b29a",
   "metadata": {
    "id": "939ab586-88f1-4235-bad1-923389f0b29a"
   },
   "outputs": [],
   "source": [
    "\n",
    "\n",
    "logistic_scores = cross_val_score(logistic, X_train, y_train, cv=5)\n",
    "logistic_mean_score = logistic_scores.mean()\n",
    "logistic_pred = logistic.predict(X_test)\n",
    "logistic_accuracy = accuracy_score(y_test, logistic_pred)\n",
    "logistic_cm = confusion_matrix(y_test, logistic_pred)\n",
    "logistic_fp = logistic_cm[0, 1]\n",
    "logistic_fn = logistic_cm[1, 0]"
   ]
  },
  {
   "cell_type": "markdown",
   "id": "3b7e6437-7695-48cc-8cac-be6d9a7b3d30",
   "metadata": {
    "id": "3b7e6437-7695-48cc-8cac-be6d9a7b3d30"
   },
   "source": [
    "# Evaluate the decision tree model"
   ]
  },
  {
   "cell_type": "code",
   "execution_count": 9,
   "id": "4d8a21e9-4b53-48d6-91c7-3b89520a22de",
   "metadata": {
    "id": "4d8a21e9-4b53-48d6-91c7-3b89520a22de"
   },
   "outputs": [],
   "source": [
    "\n",
    "decision_tree = DecisionTreeClassifier(random_state=42)\n",
    "decision_tree.fit(X_train, y_train)\n",
    "\n",
    "decision_tree_scores = cross_val_score(decision_tree, X_train, y_train, cv=5)\n",
    "decision_tree_mean_score = decision_tree_scores.mean()\n",
    "decision_tree_pred = decision_tree.predict(X_test)\n",
    "decision_tree_accuracy = accuracy_score(y_test, decision_tree_pred)\n",
    "decision_tree_cm = confusion_matrix(y_test, decision_tree_pred)\n",
    "decision_tree_fp = decision_tree_cm[0, 1]\n",
    "decision_tree_fn = decision_tree_cm[1, 0]"
   ]
  },
  {
   "cell_type": "markdown",
   "id": "759e90d9-cda2-4349-b466-d830f097dc30",
   "metadata": {
    "id": "759e90d9-cda2-4349-b466-d830f097dc30"
   },
   "source": [
    "# Build and evaluate a random forest model"
   ]
  },
  {
   "cell_type": "code",
   "execution_count": 10,
   "id": "510913be-6d1a-479d-b1c6-c5e77aef0715",
   "metadata": {
    "id": "510913be-6d1a-479d-b1c6-c5e77aef0715"
   },
   "outputs": [],
   "source": [
    "\n",
    "\n",
    "param_grid = {'n_estimators': [50, 100, 200], 'max_depth': [3, 5, 7]}\n",
    "random_forest = RandomForestClassifier(random_state=42)\n",
    "grid_search = GridSearchCV(random_forest, param_grid, cv=5)\n",
    "grid_search.fit(X_train, y_train)\n",
    "random_forest = grid_search.best_estimator_"
   ]
  },
  {
   "cell_type": "markdown",
   "id": "139860fe-f4da-4819-9761-e2783c5e5034",
   "metadata": {
    "id": "139860fe-f4da-4819-9761-e2783c5e5034"
   },
   "source": [
    "# Evaluate the random forest model"
   ]
  },
  {
   "cell_type": "code",
   "execution_count": 11,
   "id": "6d511fe9-6384-45e9-8a3b-855627093f5c",
   "metadata": {
    "id": "6d511fe9-6384-45e9-8a3b-855627093f5c"
   },
   "outputs": [],
   "source": [
    "\n",
    "\n",
    "random_forest_scores = cross_val_score(random_forest, X_train, y_train, cv=5)\n",
    "random_forest_mean_score = random_forest_scores.mean()\n",
    "random_forest_pred = random_forest.predict(X_test)\n",
    "random_forest_accuracy = accuracy_score(y_test, random_forest_pred)\n",
    "random_forest_cm = confusion_matrix(y_test, random_forest_pred)\n",
    "random_forest_fp = random_forest_cm[0, 1]\n",
    "random_forest_fn = random_forest_cm[1, 0]"
   ]
  },
  {
   "cell_type": "markdown",
   "id": "9f394010-ed01-454c-866a-15b9c0464eb4",
   "metadata": {},
   "source": [
    "# Encode the categorical feature"
   ]
  },
  {
   "cell_type": "code",
   "execution_count": 12,
   "id": "fdd0de1c-40e9-40a9-b04a-1f0910daeac3",
   "metadata": {},
   "outputs": [],
   "source": [
    "\n",
    "le = LabelEncoder()\n",
    "data['credit_rating'] = le.fit_transform(data['credit_rating'])"
   ]
  },
  {
   "cell_type": "markdown",
   "id": "cb6303b3-b78f-4138-8d2c-d576fe439243",
   "metadata": {},
   "source": [
    "# Split the data into training and testing sets"
   ]
  },
  {
   "cell_type": "code",
   "execution_count": 13,
   "id": "1f8becae-5837-4a35-8398-f9c217bac505",
   "metadata": {},
   "outputs": [],
   "source": [
    "X = data.drop(['default'], axis=1)\n",
    "y = data['default']\n",
    "X_train, X_test, y_train, y_test = train_test_split(X, y, test_size=0.2, random_state=42)"
   ]
  },
  {
   "cell_type": "markdown",
   "id": "09aa2307-b631-46ee-a58e-c46a53182c5c",
   "metadata": {},
   "source": [
    "# Select the features to be used in the model"
   ]
  },
  {
   "cell_type": "code",
   "execution_count": 14,
   "id": "cd3f3a1a-53c9-498f-9351-1ba1aa9eb0bf",
   "metadata": {
    "id": "cd3f3a1a-53c9-498f-9351-1ba1aa9eb0bf"
   },
   "outputs": [],
   "source": [
    "features = ['credit_rating', 'amount_of_loan']\n",
    "X_train = X_train[features]\n",
    "X_test = X_test[features]\n"
   ]
  },
  {
   "cell_type": "markdown",
   "id": "21979b8b-0d58-4e9f-8ec1-63ec2cba3b38",
   "metadata": {},
   "source": [
    "# Train and cross-validate the models"
   ]
  },
  {
   "cell_type": "code",
   "execution_count": 15,
   "id": "8f7f7ad1-25ef-4ff0-8dda-d7becf02e9a9",
   "metadata": {
    "id": "8f7f7ad1-25ef-4ff0-8dda-d7becf02e9a9"
   },
   "outputs": [],
   "source": [
    "models = [ SGDRegressor(),\n",
    "          SVR(), BayesianRidge(), KernelRidge(), XGBRegressor(), LGBMRegressor()]\n"
   ]
  },
  {
   "cell_type": "markdown",
   "id": "8bc4de8e-ea72-4d12-b030-3a41ba6a9bee",
   "metadata": {
    "id": "8bc4de8e-ea72-4d12-b030-3a41ba6a9bee"
   },
   "source": [
    "# Print the results"
   ]
  },
  {
   "cell_type": "code",
   "execution_count": 40,
   "id": "bce42a14-a60b-476f-ae4d-fd4f272c7eff",
   "metadata": {
    "colab": {
     "base_uri": "https://localhost:8080/"
    },
    "id": "bce42a14-a60b-476f-ae4d-fd4f272c7eff",
    "outputId": "81c04d50-be97-45bf-def1-3258348827ba"
   },
   "outputs": [
    {
     "name": "stdout",
     "output_type": "stream",
     "text": [
      "Logistic Regression:\n",
      "\t\t\tAccuracy: 0.6216041397153945\n",
      "\t\t\tMean CV Score: 0.6341423948220065\n",
      "\t\t\tFalse Positives: 227\n",
      "\t\t\tFalse Negatives: 358\n",
      "\n",
      "\n",
      "\n",
      "Decision Tree:\n",
      "\t\t\tAccuracy: 0.6151358344113842\n",
      "\t\t\tMean CV Score: 0.6194174757281553\n",
      "\t\t\tFalse Positives: 240\n",
      "\t\t\tFalse Negatives: 355\n",
      "\n",
      "\n",
      "\n",
      "Random Forest:\n",
      "\t\t\tAccuracy: 0.6222509702457956\n",
      "\t\t\tMean CV Score: 0.6339805825242719\n",
      "\t\t\tFalse Positives: 228\n",
      "\t\t\tFalse Negatives: 356\n",
      "\n",
      "\n",
      "\n",
      "\n",
      "\n",
      "\n",
      "Model: SGDRegressor\n",
      "\t\t\tAccuracy: nan \n",
      "\n",
      "\t\t\tAccuracy Score: 0.0\n",
      "\t\t\tConfusion Matrix:\n",
      "\n",
      " [[0 0 2 ... 1 1 0]\n",
      " [0 0 3 ... 1 2 1]\n",
      " [0 0 0 ... 0 0 0]\n",
      " ...\n",
      " [0 0 0 ... 0 0 0]\n",
      " [0 0 0 ... 0 0 0]\n",
      " [0 0 0 ... 0 0 0]]\n",
      "\n",
      "\n",
      "\n",
      "\n",
      "Model: SVR\n",
      "\t\t\tAccuracy: nan \n",
      "\n",
      "\t\t\tAccuracy Score: 0.5375\n",
      "\t\t\tConfusion Matrix:\n",
      "\n",
      " [[705  94]\n",
      " [621 126]]\n",
      "\n",
      "\n",
      "\n",
      "\n",
      "Model: BayesianRidge\n",
      "\t\t\tAccuracy: nan \n",
      "\n",
      "\t\t\tAccuracy Score: 0.6184\n",
      "\t\t\tConfusion Matrix:\n",
      "\n",
      " [[575 224]\n",
      " [366 381]]\n",
      "\n",
      "\n",
      "\n",
      "\n",
      "Model: KernelRidge\n",
      "\t\t\tAccuracy: nan \n",
      "\n",
      "\t\t\tAccuracy Score: 0.5886\n",
      "\t\t\tConfusion Matrix:\n",
      "\n",
      " [[632 167]\n",
      " [469 278]]\n",
      "\n",
      "\n",
      "\n",
      "\n",
      "Model: XGBRegressor\n",
      "\t\t\tAccuracy: nan \n",
      "\n",
      "\t\t\tAccuracy Score: 0.608\n",
      "\t\t\tConfusion Matrix:\n",
      "\n",
      " [[555 244]\n",
      " [362 385]]\n",
      "\n",
      "\n",
      "\n",
      "\n",
      "Model: LGBMRegressor\n",
      "\t\t\tAccuracy: nan \n",
      "\n",
      "\t\t\tAccuracy Score: 0.6184\n",
      "\t\t\tConfusion Matrix:\n",
      "\n",
      " [[553 246]\n",
      " [344 403]]\n"
     ]
    }
   ],
   "source": [
    "\n",
    "\n",
    "print('Logistic Regression:\\n\\t\\t\\tAccuracy:', logistic_accuracy)\n",
    "print('\\t\\t\\tMean CV Score:', logistic_mean_score)\n",
    "print('\\t\\t\\tFalse Positives:', logistic_fp,) \n",
    "print('\\t\\t\\tFalse Negatives:', logistic_fn)\n",
    "print('\\n')\n",
    "      \n",
    "print('\\nDecision Tree:\\n\\t\\t\\tAccuracy:', decision_tree_accuracy)\n",
    "print('\\t\\t\\tMean CV Score:', decision_tree_mean_score)\n",
    "print('\\t\\t\\tFalse Positives:', decision_tree_fp)\n",
    "print('\\t\\t\\tFalse Negatives:', decision_tree_fn)\n",
    "print('\\n')\n",
    "\n",
    "print('\\nRandom Forest:\\n\\t\\t\\tAccuracy:', random_forest_accuracy)\n",
    "print('\\t\\t\\tMean CV Score:', random_forest_mean_score)\n",
    "print('\\t\\t\\tFalse Positives:', random_forest_fp)\n",
    "print('\\t\\t\\tFalse Negatives:', random_forest_fn)\n",
    "\n",
    "print('\\n')\n",
    "\n",
    "for model in models:\n",
    "    warnings.simplefilter('ignore')\n",
    "    print('\\n')\n",
    "    print('\\n')\n",
    "    print('Model:', type(model).__name__)\n",
    "    scores = cross_val_score(model, X_train, y_train, cv=5, scoring='accuracy')\n",
    "    print('\\t\\t\\tAccuracy:', round(np.mean(scores), 4), '\\n')\n",
    "\n",
    "    # Fit the model and evaluate its performance on the testing set\n",
    "    model.fit(X_train, y_train)\n",
    "    y_pred = model.predict(X_test)\n",
    "    y_pred = np.round(y_pred).astype(int)\n",
    "    acc = accuracy_score(y_test, y_pred)\n",
    "    cm = confusion_matrix(y_test, y_pred)\n",
    "    print('\\t\\t\\tAccuracy Score:', round(acc, 4))\n",
    "    print('\\t\\t\\tConfusion Matrix:')\n",
    "    print('\\n',cm)\n",
    "  \n"
   ]
  },
  {
   "cell_type": "markdown",
   "id": "e418e783-a545-4aa9-a23f-8b8d268096f8",
   "metadata": {},
   "source": [
    "# Best Accuracy Results"
   ]
  },
  {
   "cell_type": "markdown",
   "id": "472fab0a-b5c9-4b68-9a22-f26de69e25ad",
   "metadata": {
    "id": "472fab0a-b5c9-4b68-9a22-f26de69e25ad"
   },
   "source": [
    "Based on the results of the code provided in my previous answer, the best accuracy score is 0.6222.\n",
    "\n",
    "To determine which features are most important in the random forest model, we can use the feature_importances_ attribute of the model. This attribute returns an array of importance scores for each feature, where higher scores indicate greater importance. We can use this information to create a bar chart showing the relative importance of each feature.\n",
    "\n"
   ]
  },
  {
   "cell_type": "markdown",
   "id": "84739862-27a2-43b5-b621-600b841bac55",
   "metadata": {
    "id": "84739862-27a2-43b5-b621-600b841bac55"
   },
   "source": [
    "# Extract feature importances from random forest mode"
   ]
  },
  {
   "cell_type": "code",
   "execution_count": null,
   "id": "52851e6b-f264-4bc3-9ffc-194964fb2537",
   "metadata": {
    "id": "52851e6b-f264-4bc3-9ffc-194964fb2537",
    "outputId": "2ade0e1e-fc80-4f88-aede-176003fbc195"
   },
   "outputs": [
    {
     "data": {
      "image/png": "[encoded data removed]",
      "text/plain": [
       "<Figure size 432x288 with 1 Axes>"
      ]
     },
     "metadata": {
      "needs_background": "light"
     },
     "output_type": "display_data"
    }
   ],
   "source": [
    "\n",
    "import matplotlib.pyplot as plt\n",
    "importances = random_forest.feature_importances_\n",
    "features = ['Credit Rating', 'Years with Bank']\n",
    "\n",
    "# Plot feature importances in a bar chart\n",
    "plt.bar(features, importances)\n",
    "plt.title('Feature Importances')\n",
    "plt.xlabel('Feature')\n",
    "plt.ylabel('Importance')\n",
    "plt.show()\n"
   ]
  },
  {
   "cell_type": "markdown",
   "id": "16b9d9a6-2b82-4b8e-8390-14c0d6b2e9b2",
   "metadata": {
    "id": "16b9d9a6-2b82-4b8e-8390-14c0d6b2e9b2"
   },
   "source": [
    "The resulting bar chart shows that 'Credit Rating' is the most important feature in the model, followed by 'Years with Bank'. The relative importance of these two features is shown by the height of the bars in the chart.\n",
    "\n",
    "Overall, this suggests that the credit rating of an applicant is the most important factor in predicting whether they will default on a loan, followed by the length of time they have been a customer of the bank."
   ]
  },
  {
   "cell_type": "code",
   "execution_count": null,
   "id": "9b48456d-6369-4164-892d-497a2f0eeab8",
   "metadata": {
    "id": "9b48456d-6369-4164-892d-497a2f0eeab8"
   },
   "outputs": [],
   "source": []
  }
 ],
 "metadata": {
  "colab": {
   "provenance": []
  },
  "kernelspec": {
   "display_name": "Python 3 (ipykernel)",
   "language": "python",
   "name": "python3"
  },
  "language_info": {
   "codemirror_mode": {
    "name": "ipython",
    "version": 3
   },
   "file_extension": ".py",
   "mimetype": "text/x-python",
   "name": "python",
   "nbconvert_exporter": "python",
   "pygments_lexer": "ipython3",
   "version": "3.9.7"
  }
 },
 "nbformat": 4,
 "nbformat_minor": 5
}
